{
 "cells": [
  {
   "cell_type": "code",
   "execution_count": 3,
   "id": "d28e6a4d",
   "metadata": {},
   "outputs": [],
   "source": [
    "import cv2"
   ]
  },
  {
   "cell_type": "code",
   "execution_count": 5,
   "id": "53c0339c",
   "metadata": {},
   "outputs": [],
   "source": [
    "import mediapipe as mp"
   ]
  }
 ],
 "metadata": {
  "kernelspec": {
   "display_name": "mp_test",
   "language": "python",
   "name": "mp_test"
  },
  "language_info": {
   "codemirror_mode": {
    "name": "ipython",
    "version": 3
   },
   "file_extension": ".py",
   "mimetype": "text/x-python",
   "name": "python",
   "nbconvert_exporter": "python",
   "pygments_lexer": "ipython3",
   "version": "3.7.11"
  }
 },
 "nbformat": 4,
 "nbformat_minor": 5
}
